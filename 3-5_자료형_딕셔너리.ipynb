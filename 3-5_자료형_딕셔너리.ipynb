{
 "cells": [
  {
   "cell_type": "markdown",
   "id": "50e13260-e4c8-425c-be29-7225c9dabbb5",
   "metadata": {},
   "source": [
    "# 2. 딕셔너리는 어떻게 만들까?"
   ]
  },
  {
   "cell_type": "code",
   "execution_count": 1,
   "id": "f2eb9aae-b2f9-4c30-afab-528ec8126af6",
   "metadata": {},
   "outputs": [
    {
     "data": {
      "text/plain": [
       "dict"
      ]
     },
     "execution_count": 1,
     "metadata": {},
     "output_type": "execute_result"
    }
   ],
   "source": [
    "dic= {'name': 'csm', 'phone': '010-1234-5678', 'birth': '1010'}\n",
    "type(dic)"
   ]
  },
  {
   "cell_type": "code",
   "execution_count": 3,
   "id": "90828706-783d-4c5c-84ce-1a780fcd8567",
   "metadata": {},
   "outputs": [
    {
     "data": {
      "text/plain": [
       "'csm'"
      ]
     },
     "execution_count": 3,
     "metadata": {},
     "output_type": "execute_result"
    }
   ],
   "source": [
    "dic['name']"
   ]
  },
  {
   "cell_type": "code",
   "execution_count": 5,
   "id": "b89eeed4-378b-4162-a51d-55b662b5c574",
   "metadata": {},
   "outputs": [
    {
     "data": {
      "text/plain": [
       "'010-1234-5678'"
      ]
     },
     "execution_count": 5,
     "metadata": {},
     "output_type": "execute_result"
    }
   ],
   "source": [
    "dic['phone']"
   ]
  },
  {
   "cell_type": "code",
   "execution_count": 6,
   "id": "a9434b3d-7e78-4843-a373-c3e79f8e6ef5",
   "metadata": {},
   "outputs": [
    {
     "data": {
      "text/plain": [
       "'1010'"
      ]
     },
     "execution_count": 6,
     "metadata": {},
     "output_type": "execute_result"
    }
   ],
   "source": [
    "dic['birth']"
   ]
  },
  {
   "cell_type": "code",
   "execution_count": 7,
   "id": "81d26d52-5e46-48e9-bce4-d07449d8e8e7",
   "metadata": {},
   "outputs": [
    {
     "data": {
      "text/plain": [
       "{'a': [1, 2, 3]}"
      ]
     },
     "execution_count": 7,
     "metadata": {},
     "output_type": "execute_result"
    }
   ],
   "source": [
    "a= {'a': [1,2,3]}\n",
    "a"
   ]
  },
  {
   "cell_type": "code",
   "execution_count": 8,
   "id": "2ea25ef7-96d5-41cb-a64e-b3049c696377",
   "metadata": {},
   "outputs": [
    {
     "data": {
      "text/plain": [
       "dict"
      ]
     },
     "execution_count": 8,
     "metadata": {},
     "output_type": "execute_result"
    }
   ],
   "source": [
    "type(a)"
   ]
  },
  {
   "cell_type": "markdown",
   "id": "0f392cb6-6f57-40df-8efe-beae052a3821",
   "metadata": {},
   "source": [
    "## 딕셔너리 쌍 추가, 삭제하기"
   ]
  },
  {
   "cell_type": "code",
   "execution_count": 9,
   "id": "a43d7cba-746a-4e4e-bf87-db5cb13ba9a5",
   "metadata": {},
   "outputs": [
    {
     "data": {
      "text/plain": [
       "{1: 'a', 2: 'b'}"
      ]
     },
     "execution_count": 9,
     "metadata": {},
     "output_type": "execute_result"
    }
   ],
   "source": [
    "a= {1:'a'}\n",
    "a[2]= 'b'\n",
    "a"
   ]
  },
  {
   "cell_type": "code",
   "execution_count": 10,
   "id": "1403ee70-67ab-49b9-8ad9-fcbb46903577",
   "metadata": {},
   "outputs": [
    {
     "data": {
      "text/plain": [
       "{1: 'a', 2: 'b', 'name': 'csm'}"
      ]
     },
     "execution_count": 10,
     "metadata": {},
     "output_type": "execute_result"
    }
   ],
   "source": [
    "a['name']= 'csm'\n",
    "a"
   ]
  },
  {
   "cell_type": "code",
   "execution_count": 11,
   "id": "96892dfb-940d-4fe0-a0b9-39e02b45fd0b",
   "metadata": {},
   "outputs": [
    {
     "data": {
      "text/plain": [
       "dict"
      ]
     },
     "execution_count": 11,
     "metadata": {},
     "output_type": "execute_result"
    }
   ],
   "source": [
    "type(a)"
   ]
  },
  {
   "cell_type": "code",
   "execution_count": 12,
   "id": "4f8cc1f2-2906-4dc7-9977-d59589c67a5e",
   "metadata": {},
   "outputs": [
    {
     "data": {
      "text/plain": [
       "{1: 'a', 2: 'b', 'name': 'csm', 3: [1, 2, 3]}"
      ]
     },
     "execution_count": 12,
     "metadata": {},
     "output_type": "execute_result"
    }
   ],
   "source": [
    "a[3]= [1,2,3]\n",
    "a"
   ]
  },
  {
   "cell_type": "code",
   "execution_count": 14,
   "id": "2ad1c67e-bd71-4741-ab2e-6f95f459eed5",
   "metadata": {},
   "outputs": [
    {
     "data": {
      "text/plain": [
       "{1: 'a',\n",
       " 2: 'b',\n",
       " 'name': 'csm',\n",
       " 3: [1, 2, 3],\n",
       " 'hobby': {'a': [1, 2, 3], 'b': 'sport'}}"
      ]
     },
     "execution_count": 14,
     "metadata": {},
     "output_type": "execute_result"
    }
   ],
   "source": [
    "a['hobby']= {'a': [1,2,3],'b': 'sport'}\n",
    "a"
   ]
  },
  {
   "cell_type": "code",
   "execution_count": 15,
   "id": "0ac0790e-9e9b-46cf-9c49-9918a508f385",
   "metadata": {},
   "outputs": [
    {
     "data": {
      "text/plain": [
       "{1: 'a', 2: 'b', 'name': 'csm', 3: [1, 2, 3]}"
      ]
     },
     "execution_count": 15,
     "metadata": {},
     "output_type": "execute_result"
    }
   ],
   "source": [
    "#삭제하기\n",
    "del a['hobby']\n",
    "a"
   ]
  },
  {
   "cell_type": "code",
   "execution_count": 16,
   "id": "7b936914-ce87-4199-9135-0eefb18f7880",
   "metadata": {},
   "outputs": [
    {
     "data": {
      "text/plain": [
       "{1: 'a', 'name': 'csm', 3: [1, 2, 3]}"
      ]
     },
     "execution_count": 16,
     "metadata": {},
     "output_type": "execute_result"
    }
   ],
   "source": [
    "del a[2]\n",
    "a"
   ]
  },
  {
   "cell_type": "markdown",
   "id": "25fd3e07-94c9-4278-a5cd-046cc6fb3468",
   "metadata": {},
   "source": [
    "## 4. 딕셔너리를 사용하는 방법"
   ]
  },
  {
   "cell_type": "code",
   "execution_count": 20,
   "id": "795391b3-4430-413d-9d74-fccd2a2e29f5",
   "metadata": {},
   "outputs": [
    {
     "name": "stdout",
     "output_type": "stream",
     "text": [
      "10\n",
      "99\n"
     ]
    }
   ],
   "source": [
    "grade= {'pey': 10, 'julleiet': 99}\n",
    "# 딕셔너리는 인덱싱 할 때 [] 안에 key값\n",
    "print(grade['pey'])\n",
    "print(grade['julleiet'])"
   ]
  },
  {
   "cell_type": "code",
   "execution_count": 21,
   "id": "5a402b7c-6961-4026-8f78-caebcbb23e80",
   "metadata": {},
   "outputs": [],
   "source": [
    "a= {1: 'a',2: 'b'}"
   ]
  },
  {
   "cell_type": "code",
   "execution_count": 22,
   "id": "ea4aa6c1-d76f-4d59-a860-13534d0dff5f",
   "metadata": {},
   "outputs": [
    {
     "data": {
      "text/plain": [
       "'a'"
      ]
     },
     "execution_count": 22,
     "metadata": {},
     "output_type": "execute_result"
    }
   ],
   "source": [
    "a[1]"
   ]
  },
  {
   "cell_type": "code",
   "execution_count": 23,
   "id": "82bfc7d7-9863-4fd6-a1d7-128e13c47d61",
   "metadata": {},
   "outputs": [
    {
     "data": {
      "text/plain": [
       "'b'"
      ]
     },
     "execution_count": 23,
     "metadata": {},
     "output_type": "execute_result"
    }
   ],
   "source": [
    "a[2]"
   ]
  },
  {
   "cell_type": "code",
   "execution_count": 29,
   "id": "aded8a33-8db9-4a78-b868-5b8dc821d803",
   "metadata": {},
   "outputs": [
    {
     "data": {
      "text/plain": [
       "{1: 'b'}"
      ]
     },
     "execution_count": 29,
     "metadata": {},
     "output_type": "execute_result"
    }
   ],
   "source": [
    "# 딕셔너리 만들 때 주의사항\n",
    "# key값은 중복사용 불가능\n",
    "a= {1: 'a', 1: 'b'}\n",
    "a"
   ]
  },
  {
   "cell_type": "code",
   "execution_count": 30,
   "id": "2145e91c-63b9-459b-897c-bc7dc3574d7f",
   "metadata": {},
   "outputs": [
    {
     "ename": "TypeError",
     "evalue": "unhashable type: 'list'",
     "output_type": "error",
     "traceback": [
      "\u001b[1;31m---------------------------------------------------------------------------\u001b[0m",
      "\u001b[1;31mTypeError\u001b[0m                                 Traceback (most recent call last)",
      "Cell \u001b[1;32mIn[30], line 2\u001b[0m\n\u001b[0;32m      1\u001b[0m \u001b[38;5;66;03m# key값에는 리스트는 불가능 (숫자와 문자열만 가능)\u001b[39;00m\n\u001b[1;32m----> 2\u001b[0m a\u001b[38;5;241m=\u001b[39m {[\u001b[38;5;241m1\u001b[39m,\u001b[38;5;241m2\u001b[39m]: \u001b[38;5;124m'\u001b[39m\u001b[38;5;124mhi\u001b[39m\u001b[38;5;124m'\u001b[39m}\n",
      "\u001b[1;31mTypeError\u001b[0m: unhashable type: 'list'"
     ]
    }
   ],
   "source": [
    "# key값에는 리스트는 불가능 (숫자와 문자열만 가능)\n",
    "a= {[1,2]: 'hi'}"
   ]
  },
  {
   "cell_type": "markdown",
   "id": "775cad62-111f-4aa9-b1c7-291133c3a576",
   "metadata": {},
   "source": [
    "## 5. 딕셔너리 관련 함수"
   ]
  },
  {
   "cell_type": "code",
   "execution_count": 81,
   "id": "ff7e0b1e-3f35-4f8b-b82b-70ab04139552",
   "metadata": {},
   "outputs": [
    {
     "data": {
      "text/plain": [
       "dict_keys(['name', 'phone', 'birth'])"
      ]
     },
     "execution_count": 81,
     "metadata": {},
     "output_type": "execute_result"
    }
   ],
   "source": [
    "# keys() : key값만 모아서 리스트로 만들어주는 함수\n",
    "dic= {'name': 'csm', 'phone': '010-1234-5678', 'birth': '1010'}\n",
    "dic.keys()"
   ]
  },
  {
   "cell_type": "code",
   "execution_count": 82,
   "id": "94aa96a8-ac44-48ff-b91c-64af606ebb8f",
   "metadata": {},
   "outputs": [
    {
     "data": {
      "text/plain": [
       "dict_values(['csm', '010-1234-5678', '1010'])"
      ]
     },
     "execution_count": 82,
     "metadata": {},
     "output_type": "execute_result"
    }
   ],
   "source": [
    "# values() : value값만 모아서 리스트 만들어주는 함수\n",
    "dic.values()"
   ]
  },
  {
   "cell_type": "code",
   "execution_count": 83,
   "id": "0a03f817-aa1a-4275-8910-4e6421a8e863",
   "metadata": {},
   "outputs": [
    {
     "name": "stdout",
     "output_type": "stream",
     "text": [
      "name\n",
      "phone\n",
      "birth\n"
     ]
    }
   ],
   "source": [
    "# for () in dic.keys() : 딕셔너리 안에 key값을 1열로 보여줌\n",
    "for k in dic.keys():\n",
    "    print(k)"
   ]
  },
  {
   "cell_type": "code",
   "execution_count": 84,
   "id": "8b366890-262c-483d-970b-14e5b5e3d939",
   "metadata": {},
   "outputs": [
    {
     "name": "stdout",
     "output_type": "stream",
     "text": [
      "csm\n",
      "010-1234-5678\n",
      "1010\n"
     ]
    }
   ],
   "source": [
    "#for () in dic.values() : 딕셔너리 안에 value값을 1열로 보여줌\n",
    "for v in dic.values():\n",
    "    print(v)"
   ]
  },
  {
   "cell_type": "code",
   "execution_count": 42,
   "id": "acd37b20-3c8d-4cac-8d96-3388b5acde8c",
   "metadata": {},
   "outputs": [
    {
     "data": {
      "text/plain": [
       "dict_items([('name', 'csm'), ('phone', '010-1234-5678'), ('birth', '1010')])"
      ]
     },
     "execution_count": 42,
     "metadata": {},
     "output_type": "execute_result"
    }
   ],
   "source": [
    "# items() : 딕셔너리 안에 key값과 value값을 짝 맞춰서 튜플로 묶어 보여줌\n",
    "dic.items()"
   ]
  },
  {
   "cell_type": "code",
   "execution_count": 43,
   "id": "371f5778-428a-4bdc-bed3-302399efac71",
   "metadata": {},
   "outputs": [
    {
     "data": {
      "text/plain": [
       "{}"
      ]
     },
     "execution_count": 43,
     "metadata": {},
     "output_type": "execute_result"
    }
   ],
   "source": [
    "# clear() : 딕셔너리 아이템 모두 지우기\n",
    "dic.clear()\n",
    "dic"
   ]
  },
  {
   "cell_type": "code",
   "execution_count": 44,
   "id": "0c27ea05-e172-4419-91a8-ffa5e465aa7d",
   "metadata": {},
   "outputs": [
    {
     "data": {
      "text/plain": [
       "dict"
      ]
     },
     "execution_count": 44,
     "metadata": {},
     "output_type": "execute_result"
    }
   ],
   "source": [
    "type({})"
   ]
  },
  {
   "cell_type": "code",
   "execution_count": 46,
   "id": "ef18cbff-8729-4596-869c-d4f66dc4345c",
   "metadata": {},
   "outputs": [
    {
     "data": {
      "text/plain": [
       "{'name': 'csm'}"
      ]
     },
     "execution_count": 46,
     "metadata": {},
     "output_type": "execute_result"
    }
   ],
   "source": [
    "#빈 dic에 값 추가하기\n",
    "dic['name']= 'csm'\n",
    "dic"
   ]
  },
  {
   "cell_type": "code",
   "execution_count": 48,
   "id": "2ce4e1dd-7bfb-4f12-b6e6-5bb0730f1bba",
   "metadata": {},
   "outputs": [
    {
     "data": {
      "text/plain": [
       "{'name': 'csm', 'phone': '010-1234-5678', 'birth': '1010'}"
      ]
     },
     "execution_count": 48,
     "metadata": {},
     "output_type": "execute_result"
    }
   ],
   "source": [
    "dic['phone']= '010-1234-5678'\n",
    "dic['birth']= '1010'\n",
    "dic"
   ]
  },
  {
   "cell_type": "code",
   "execution_count": 53,
   "id": "9616f680-062f-4855-8c4d-209edf0df58d",
   "metadata": {},
   "outputs": [
    {
     "name": "stdout",
     "output_type": "stream",
     "text": [
      "내 이름은 csm\n"
     ]
    }
   ],
   "source": [
    "# 포맷팅 적용 (변수는 중괄호안에 묶어줘야함)\n",
    "print(f\"내 이름은 {dic['name']}\")"
   ]
  },
  {
   "cell_type": "code",
   "execution_count": 54,
   "id": "90bba612-44fe-4bea-9bf5-341ff142433b",
   "metadata": {},
   "outputs": [
    {
     "name": "stdout",
     "output_type": "stream",
     "text": [
      " 내 전화번호는 010-1234-5678\n"
     ]
    }
   ],
   "source": [
    "print(f\" 내 전화번호는 {dic['phone']}\")"
   ]
  },
  {
   "cell_type": "code",
   "execution_count": 57,
   "id": "af887880-27c5-4beb-b982-e9ac86181205",
   "metadata": {},
   "outputs": [
    {
     "data": {
      "text/plain": [
       "'1010'"
      ]
     },
     "execution_count": 57,
     "metadata": {},
     "output_type": "execute_result"
    }
   ],
   "source": [
    "# get() : key값을 넣어 value값 얻기\n",
    "dic.get('birth')"
   ]
  },
  {
   "cell_type": "code",
   "execution_count": 65,
   "id": "30970502-4ec6-4e61-94ba-322564f16e96",
   "metadata": {},
   "outputs": [
    {
     "data": {
      "text/plain": [
       "'csm'"
      ]
     },
     "execution_count": 65,
     "metadata": {},
     "output_type": "execute_result"
    }
   ],
   "source": [
    "dic.get('name')"
   ]
  },
  {
   "cell_type": "code",
   "execution_count": 66,
   "id": "5731eb83-d66e-4be9-8d21-32f2b891cd79",
   "metadata": {},
   "outputs": [],
   "source": [
    "dic.get('age')"
   ]
  },
  {
   "cell_type": "code",
   "execution_count": 67,
   "id": "f405b6f1-875d-406e-947c-207db87c1371",
   "metadata": {},
   "outputs": [
    {
     "data": {
      "text/plain": [
       "25"
      ]
     },
     "execution_count": 67,
     "metadata": {},
     "output_type": "execute_result"
    }
   ],
   "source": [
    "dic.get('age', 25)"
   ]
  },
  {
   "cell_type": "code",
   "execution_count": 68,
   "id": "70c1c030-6631-4609-943a-8a350088c194",
   "metadata": {},
   "outputs": [
    {
     "data": {
      "text/plain": [
       "{'name': 'csm', 'phone': '010-1234-5678', 'birth': '1010', 'age': 28}"
      ]
     },
     "execution_count": 68,
     "metadata": {},
     "output_type": "execute_result"
    }
   ],
   "source": [
    "dic['age']= 28\n",
    "dic"
   ]
  },
  {
   "cell_type": "code",
   "execution_count": 70,
   "id": "120e0a8b-77c2-4e5c-873b-23aee8203193",
   "metadata": {},
   "outputs": [
    {
     "data": {
      "text/plain": [
       "28"
      ]
     },
     "execution_count": 70,
     "metadata": {},
     "output_type": "execute_result"
    }
   ],
   "source": [
    "dic.get('age')"
   ]
  },
  {
   "cell_type": "code",
   "execution_count": 73,
   "id": "962cbb13-7bb3-4e67-9138-6b996825ad22",
   "metadata": {},
   "outputs": [
    {
     "name": "stdout",
     "output_type": "stream",
     "text": [
      "{'name': 'csm', 'phone': '010-1234-5678', 'birth': '1010', 'age': 28}\n"
     ]
    }
   ],
   "source": [
    "print(dic)"
   ]
  },
  {
   "cell_type": "code",
   "execution_count": 74,
   "id": "36e71395-565d-4620-a577-b765a833a783",
   "metadata": {},
   "outputs": [
    {
     "data": {
      "text/plain": [
       "28"
      ]
     },
     "execution_count": 74,
     "metadata": {},
     "output_type": "execute_result"
    }
   ],
   "source": [
    "dic.get('age')"
   ]
  },
  {
   "cell_type": "code",
   "execution_count": 75,
   "id": "36111ce4-6393-4874-b872-eaafea9e36c0",
   "metadata": {},
   "outputs": [
    {
     "data": {
      "text/plain": [
       "28"
      ]
     },
     "execution_count": 75,
     "metadata": {},
     "output_type": "execute_result"
    }
   ],
   "source": [
    "dic.get('age', 25)"
   ]
  },
  {
   "cell_type": "code",
   "execution_count": 76,
   "id": "0b7e873b-e27c-4fb6-a3ca-5145667f7939",
   "metadata": {},
   "outputs": [
    {
     "data": {
      "text/plain": [
       "True"
      ]
     },
     "execution_count": 76,
     "metadata": {},
     "output_type": "execute_result"
    }
   ],
   "source": [
    "# in : key가 딕셔너리에 존재하는지 여부를 확인\n",
    "'name' in dic"
   ]
  },
  {
   "cell_type": "code",
   "execution_count": 77,
   "id": "ee49d8d2-6ceb-4417-8b6a-d599aace3170",
   "metadata": {},
   "outputs": [
    {
     "data": {
      "text/plain": [
       "False"
      ]
     },
     "execution_count": 77,
     "metadata": {},
     "output_type": "execute_result"
    }
   ],
   "source": [
    "'email' in dic"
   ]
  },
  {
   "cell_type": "code",
   "execution_count": null,
   "id": "604ec619-f738-4fac-8f46-dd8c73d0994c",
   "metadata": {},
   "outputs": [],
   "source": []
  }
 ],
 "metadata": {
  "kernelspec": {
   "display_name": "Python [conda env:base] *",
   "language": "python",
   "name": "conda-base-py"
  },
  "language_info": {
   "codemirror_mode": {
    "name": "ipython",
    "version": 3
   },
   "file_extension": ".py",
   "mimetype": "text/x-python",
   "name": "python",
   "nbconvert_exporter": "python",
   "pygments_lexer": "ipython3",
   "version": "3.13.5"
  }
 },
 "nbformat": 4,
 "nbformat_minor": 5
}
