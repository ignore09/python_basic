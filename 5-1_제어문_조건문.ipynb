{
 "cells": [
  {
   "cell_type": "markdown",
   "id": "7af00f7d-d7e1-4549-9460-bde11c19a70a",
   "metadata": {},
   "source": [
    "## 1. if문의 기본 구조"
   ]
  },
  {
   "cell_type": "code",
   "execution_count": 1,
   "id": "717cee6f-f1ce-48e7-bd7b-b63abf339453",
   "metadata": {},
   "outputs": [
    {
     "name": "stdout",
     "output_type": "stream",
     "text": [
      "택시를 타고 가라\n"
     ]
    }
   ],
   "source": [
    "# 조건문엔 :콜론을 잊지 마라 들여쓰기 안된다\n",
    "money= True\n",
    "if money:\n",
    "    print(\"택시를 타고 가라\")\n",
    "\n",
    "else:\n",
    "    print(\"걸어서 가라\")"
   ]
  },
  {
   "cell_type": "code",
   "execution_count": 3,
   "id": "d13bc5e0-ebd1-495e-8f18-133f6d83a529",
   "metadata": {},
   "outputs": [
    {
     "name": "stdout",
     "output_type": "stream",
     "text": [
      "걸어서 가라\n"
     ]
    }
   ],
   "source": [
    "money= False\n",
    "if money:\n",
    "    print(\"택시를 타고 가라\")\n",
    "\n",
    "else:\n",
    "    print(\"걸어서 가라\")"
   ]
  },
  {
   "cell_type": "code",
   "execution_count": 4,
   "id": "a706c877-551b-400d-b548-eab5574bfe86",
   "metadata": {},
   "outputs": [
    {
     "name": "stdout",
     "output_type": "stream",
     "text": [
      "택시를\n",
      "타고\n",
      "가라\n"
     ]
    }
   ],
   "source": [
    "money= True\n",
    "if money:\n",
    "    print(\"택시를\")\n",
    "    print(\"타고\")\n",
    "    print(\"가라\")\n",
    "\n",
    "else:\n",
    "    print(\"걸어서 가라\")"
   ]
  },
  {
   "cell_type": "markdown",
   "id": "79f1b50f-1b49-4dbe-838a-5dc8147adc54",
   "metadata": {},
   "source": [
    "## 2. 연산자"
   ]
  },
  {
   "cell_type": "code",
   "execution_count": 5,
   "id": "8b822ca4-d1b3-4ce9-a6bd-84d8dd552dd7",
   "metadata": {},
   "outputs": [
    {
     "name": "stdout",
     "output_type": "stream",
     "text": [
      "True\n",
      "False\n",
      "False\n",
      "True\n"
     ]
    }
   ],
   "source": [
    "# 비교 연산자\n",
    "x= 3\n",
    "y= 2\n",
    "\n",
    "print(x>y) # True\n",
    "print(x<y) # False\n",
    "print(x==y) # False\n",
    "print(x!=y) # True"
   ]
  },
  {
   "cell_type": "code",
   "execution_count": 6,
   "id": "7211d8b7-3a33-4d41-8e42-4ea55661a9a8",
   "metadata": {},
   "outputs": [
    {
     "name": "stdout",
     "output_type": "stream",
     "text": [
      "걸어가라\n"
     ]
    }
   ],
   "source": [
    "# 돈이 2000원 있다, 돈이 3000원 이상 있으면 택시타고 가라 아니면 걸어가라\n",
    "money= 2000\n",
    "\n",
    "if money >=3000:\n",
    "    print(\"택시를 타고 가라\")\n",
    "\n",
    "else:\n",
    "    print(\"걸어가라\")"
   ]
  },
  {
   "cell_type": "code",
   "execution_count": 7,
   "id": "b757abc2-ef3c-4f28-939e-f1ae078cbf75",
   "metadata": {},
   "outputs": [
    {
     "name": "stdout",
     "output_type": "stream",
     "text": [
      "택시를 타고 가라\n"
     ]
    }
   ],
   "source": [
    "# 논리 연산자\n",
    "# 조건식 x,y 가 있을 때 and 연산자는 x,y 둘다 True일 때 True\n",
    "#                       or  연산자는 x,y 둘중 하나만 True여도 True\n",
    "#                       not 연산자는 x가 True면 y는 False y가 True면 x가 False\n",
    "\n",
    "# 돈이 3000원 이상 있거나 카드가 있으면 택시타고 가라\n",
    "money= 2000\n",
    "card= True\n",
    "\n",
    "if money >=3000 or card:\n",
    "    print(\"택시를 타고 가라\")\n",
    "\n",
    "else:\n",
    "    print(\"걸어가라\")"
   ]
  },
  {
   "cell_type": "code",
   "execution_count": 8,
   "id": "e8ff29b7-7586-4ab9-ade3-b88a18dbdcb9",
   "metadata": {},
   "outputs": [
    {
     "data": {
      "text/plain": [
       "True"
      ]
     },
     "execution_count": 8,
     "metadata": {},
     "output_type": "execute_result"
    }
   ],
   "source": [
    "# in, not in\n",
    "1 in [1,2,3]"
   ]
  },
  {
   "cell_type": "code",
   "execution_count": 9,
   "id": "26e3c661-f06e-450b-ba00-769077473ebd",
   "metadata": {},
   "outputs": [
    {
     "data": {
      "text/plain": [
       "False"
      ]
     },
     "execution_count": 9,
     "metadata": {},
     "output_type": "execute_result"
    }
   ],
   "source": [
    "1 not in [1,2,3]"
   ]
  },
  {
   "cell_type": "code",
   "execution_count": 10,
   "id": "ca103bda-5b08-4553-a488-a418d5eea865",
   "metadata": {},
   "outputs": [
    {
     "data": {
      "text/plain": [
       "True"
      ]
     },
     "execution_count": 10,
     "metadata": {},
     "output_type": "execute_result"
    }
   ],
   "source": [
    "'a' in ('a','b','c')"
   ]
  },
  {
   "cell_type": "code",
   "execution_count": 11,
   "id": "deeaa718-b7c3-488f-adec-9980168a0630",
   "metadata": {},
   "outputs": [
    {
     "data": {
      "text/plain": [
       "False"
      ]
     },
     "execution_count": 11,
     "metadata": {},
     "output_type": "execute_result"
    }
   ],
   "source": [
    "'d' in ('a','b','c')"
   ]
  },
  {
   "cell_type": "code",
   "execution_count": 12,
   "id": "b54464bf-1803-407b-ad55-f599ad48a582",
   "metadata": {},
   "outputs": [
    {
     "data": {
      "text/plain": [
       "True"
      ]
     },
     "execution_count": 12,
     "metadata": {},
     "output_type": "execute_result"
    }
   ],
   "source": [
    "'d' not in ('a','b','c')"
   ]
  },
  {
   "cell_type": "code",
   "execution_count": 13,
   "id": "a55e322a-8839-40ae-93ce-55a9637b5566",
   "metadata": {},
   "outputs": [
    {
     "name": "stdout",
     "output_type": "stream",
     "text": [
      "택시를 타고 가라\n"
     ]
    }
   ],
   "source": [
    "#주머니에 종이 핸드폰 돈이 있다\n",
    "pocket= ['paper', 'cellphone', 'money']\n",
    "\n",
    "#만약에 주머니에 돈이 있으면 택시를 타고 가라\n",
    "if 'money' in pocket:\n",
    "    print(\"택시를 타고 가라\")\n",
    "\n",
    "else:\n",
    "    print(\"걸어가라\")"
   ]
  },
  {
   "cell_type": "code",
   "execution_count": 15,
   "id": "3431852a-5d52-46cc-9d06-748e58e8090e",
   "metadata": {},
   "outputs": [],
   "source": [
    "# pass : 실행문 실행하지 않고 넘어가기\n",
    "#주머니에 종이 핸드폰 돈이 있다\n",
    "pocket= ['paper', 'cellphone', 'money']\n",
    "\n",
    "#주머니 안에 돈이 있으면 가만히 있고, 없으면 카드를 꺼내라\n",
    "if 'money' in pocket:\n",
    "    pass\n",
    "\n",
    "else:\n",
    "    print(\"카드를 꺼내라\")"
   ]
  },
  {
   "cell_type": "markdown",
   "id": "10742543-91c4-4a81-90b9-f890247ac91e",
   "metadata": {},
   "source": [
    "## 3. 다양한 조건을 판단하는 elif"
   ]
  },
  {
   "cell_type": "code",
   "execution_count": 16,
   "id": "b52cd86d-3418-41c1-af05-a63603d913c2",
   "metadata": {},
   "outputs": [
    {
     "name": "stdout",
     "output_type": "stream",
     "text": [
      "택시를 타고 가라\n"
     ]
    }
   ],
   "source": [
    "# if, else만으로 표현\n",
    "pocket= ['paper', 'cellphone']\n",
    "card= True\n",
    "\n",
    "if 'money' in pocket:\n",
    "    print(\"택시를 타고 가라\")\n",
    "else:\n",
    "    if card:\n",
    "        print(\"택시를 타고 가라\")\n",
    "    else:\n",
    "        print(\"걸어가라\")"
   ]
  },
  {
   "cell_type": "code",
   "execution_count": 17,
   "id": "6f1c0cc7-74c6-4660-83c6-8e6b1f136688",
   "metadata": {},
   "outputs": [
    {
     "name": "stdout",
     "output_type": "stream",
     "text": [
      "택시를 타고 가라\n"
     ]
    }
   ],
   "source": [
    "# elif 사용 (첫번째 이후 if 조건 쓸때)\n",
    "pocket= ['paper', 'cellphone']\n",
    "card= True\n",
    "\n",
    "if 'money' in pocket:\n",
    "    print(\"택시를 타고 가라\")\n",
    "elif card:\n",
    "    print(\"택시를 타고 가라\")\n",
    "else:\n",
    "    print(\"걸어가라\")"
   ]
  },
  {
   "cell_type": "code",
   "execution_count": 18,
   "id": "cb764f34-f4b1-4047-91f0-1be59d9e0e01",
   "metadata": {},
   "outputs": [
    {
     "name": "stdout",
     "output_type": "stream",
     "text": [
      "D\n"
     ]
    }
   ],
   "source": [
    "math= 60\n",
    "\n",
    "if math>=90:\n",
    "    print('A')\n",
    "elif math>=80:\n",
    "    print('B')\n",
    "elif math>=70:\n",
    "    print('C')\n",
    "elif math>=60:\n",
    "    print('D')\n",
    "else:\n",
    "    print('F')"
   ]
  },
  {
   "cell_type": "code",
   "execution_count": 19,
   "id": "f13694ab-65a7-4739-8b38-8439adbcbf79",
   "metadata": {},
   "outputs": [],
   "source": [
    "# if문 한 줄로 작성하기 :콜론 뒤에 바로써도 실행가능\n",
    "pocket= ['paper', 'cellphone', 'money']\n",
    "\n",
    "if 'money' in pocket: pass\n",
    "else: print(\"카드를 꺼내라\")"
   ]
  },
  {
   "cell_type": "markdown",
   "id": "9264f338-011a-48c7-a2ed-6bd07f53545d",
   "metadata": {},
   "source": [
    "## 4. 조건부 표현식"
   ]
  },
  {
   "cell_type": "code",
   "execution_count": 20,
   "id": "17887fc0-4bf3-4951-a4a5-a8dc78f4ae77",
   "metadata": {},
   "outputs": [
    {
     "name": "stdout",
     "output_type": "stream",
     "text": [
      "success\n"
     ]
    }
   ],
   "source": [
    "# if / else문\n",
    "score=90\n",
    "if score>= 60:\n",
    "    message='success'\n",
    "else:\n",
    "    message='failure'\n",
    "\n",
    "print(message)"
   ]
  },
  {
   "cell_type": "code",
   "execution_count": 22,
   "id": "5caf73ca-293c-40a4-8747-c4e79bb80780",
   "metadata": {},
   "outputs": [
    {
     "name": "stdout",
     "output_type": "stream",
     "text": [
      "success\n"
     ]
    }
   ],
   "source": [
    "# 조건부 표현식 (한 줄로 쓸 때)\n",
    "message= 'success' if score>= 60 else 'failure'\n",
    "\n",
    "print(message)"
   ]
  },
  {
   "cell_type": "code",
   "execution_count": null,
   "id": "bdb287b0-99d2-4a1b-b5eb-2ec6e2035ad5",
   "metadata": {},
   "outputs": [],
   "source": []
  }
 ],
 "metadata": {
  "kernelspec": {
   "display_name": "Python [conda env:base] *",
   "language": "python",
   "name": "conda-base-py"
  },
  "language_info": {
   "codemirror_mode": {
    "name": "ipython",
    "version": 3
   },
   "file_extension": ".py",
   "mimetype": "text/x-python",
   "name": "python",
   "nbconvert_exporter": "python",
   "pygments_lexer": "ipython3",
   "version": "3.13.5"
  }
 },
 "nbformat": 4,
 "nbformat_minor": 5
}
