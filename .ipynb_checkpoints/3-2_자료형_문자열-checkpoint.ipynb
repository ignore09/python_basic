{
 "cells": [
  {
   "cell_type": "markdown",
   "id": "ffc566bd-bfa9-477a-8e72-8b1f8394abbf",
   "metadata": {},
   "source": [
    "## 3-2_자료형 - 문자열"
   ]
  },
  {
   "cell_type": "code",
   "execution_count": 1,
   "id": "3007b618-47a3-4955-9e46-0cd2a18fc01d",
   "metadata": {},
   "outputs": [
    {
     "name": "stdout",
     "output_type": "stream",
     "text": [
      "Python's favorite food is perl\n",
      "<class 'str'>\n"
     ]
    }
   ],
   "source": [
    "food = \"Python's favorite food is perl\"\n",
    "print(food)\n",
    "print(type(food))"
   ]
  },
  {
   "cell_type": "code",
   "execution_count": 2,
   "id": "e42ad305-181a-4448-be45-3502b116bee2",
   "metadata": {},
   "outputs": [
    {
     "name": "stdout",
     "output_type": "stream",
     "text": [
      "Python's favorite food is perl\n",
      "<class 'str'>\n"
     ]
    }
   ],
   "source": [
    "food = 'Python\\'s favorite food is perl'\n",
    "print(food)\n",
    "print(type(food))"
   ]
  },
  {
   "cell_type": "code",
   "execution_count": 3,
   "id": "d240a0c2-f1b3-4569-9661-3b0cdb91fbe4",
   "metadata": {},
   "outputs": [
    {
     "name": "stdout",
     "output_type": "stream",
     "text": [
      " \"Python is very easy.\" he says.\n"
     ]
    }
   ],
   "source": [
    "say = ' \"Python is very easy.\" he says.'\n",
    "say\n",
    "print(say)"
   ]
  },
  {
   "cell_type": "code",
   "execution_count": 4,
   "id": "c94f0c19-c348-43db-9ec4-7ce5a364a842",
   "metadata": {},
   "outputs": [
    {
     "data": {
      "text/plain": [
       "' \"Python is very easy.\" he says.'"
      ]
     },
     "execution_count": 4,
     "metadata": {},
     "output_type": "execute_result"
    }
   ],
   "source": [
    "say"
   ]
  },
  {
   "cell_type": "markdown",
   "id": "eff24364-eadf-4cde-bdba-293e88d89572",
   "metadata": {},
   "source": [
    "### 여러줄 문자열"
   ]
  },
  {
   "cell_type": "code",
   "execution_count": 5,
   "id": "6ee8e64c-d62d-4601-9818-b915e9a84fad",
   "metadata": {},
   "outputs": [
    {
     "name": "stdout",
     "output_type": "stream",
     "text": [
      "Life is too short you need python\n"
     ]
    }
   ],
   "source": [
    "multiline = \"Life is too short you need python\"\n",
    "print(multiline)"
   ]
  },
  {
   "cell_type": "code",
   "execution_count": 7,
   "id": "782e2699-9076-49d1-8856-21a57b4ef520",
   "metadata": {},
   "outputs": [
    {
     "name": "stdout",
     "output_type": "stream",
     "text": [
      "Life is too short\n",
      "you need python\n"
     ]
    }
   ],
   "source": [
    "multiline = \"Life is too short\\nyou need python\"\n",
    "print(multiline)"
   ]
  },
  {
   "cell_type": "code",
   "execution_count": 8,
   "id": "9a654cdc-7a60-43d9-a6b5-eb8fa7fb5012",
   "metadata": {},
   "outputs": [
    {
     "name": "stdout",
     "output_type": "stream",
     "text": [
      "Life is too short \n",
      "you need python\n"
     ]
    }
   ],
   "source": [
    "multiline = \"\"\"Life is too short \n",
    "you need python\"\"\"\n",
    "print(multiline)"
   ]
  },
  {
   "cell_type": "code",
   "execution_count": 9,
   "id": "99e48a44-825f-4cb6-8f25-a8b1e21caee5",
   "metadata": {},
   "outputs": [
    {
     "name": "stdout",
     "output_type": "stream",
     "text": [
      "Life is too short \n",
      "you need python\n"
     ]
    }
   ],
   "source": [
    "multiline = '''Life is too short \n",
    "you need python'''\n",
    "print(multiline)"
   ]
  },
  {
   "cell_type": "markdown",
   "id": "89cab044-d621-4a9c-99cc-6bcced00de28",
   "metadata": {},
   "source": [
    "### 문자열 연산"
   ]
  },
  {
   "cell_type": "code",
   "execution_count": 10,
   "id": "523a2eb0-f397-4906-b6d4-78c0b8e1ee12",
   "metadata": {},
   "outputs": [],
   "source": [
    "head = \"Python\"\n",
    "tail = \"is fun!\""
   ]
  },
  {
   "cell_type": "code",
   "execution_count": 11,
   "id": "755554a6-b819-4794-890a-45bbe389039c",
   "metadata": {},
   "outputs": [
    {
     "data": {
      "text/plain": [
       "'Pythonis fun!'"
      ]
     },
     "execution_count": 11,
     "metadata": {},
     "output_type": "execute_result"
    }
   ],
   "source": [
    "head+tail"
   ]
  },
  {
   "cell_type": "code",
   "execution_count": 12,
   "id": "4c4db90f-0693-4d83-87e7-4f3e9a21adca",
   "metadata": {},
   "outputs": [
    {
     "data": {
      "text/plain": [
       "'PythonPython'"
      ]
     },
     "execution_count": 12,
     "metadata": {},
     "output_type": "execute_result"
    }
   ],
   "source": [
    "a = \"Python\"\n",
    "a*2"
   ]
  },
  {
   "cell_type": "code",
   "execution_count": 13,
   "id": "08a1d206-8a2f-4c5d-81eb-57e830dd3836",
   "metadata": {},
   "outputs": [
    {
     "name": "stdout",
     "output_type": "stream",
     "text": [
      "PythonPythonPython\n"
     ]
    }
   ],
   "source": [
    "print(a*3)"
   ]
  },
  {
   "cell_type": "code",
   "execution_count": 15,
   "id": "d9cff7bf-5630-45df-a5eb-d4174552871f",
   "metadata": {},
   "outputs": [
    {
     "name": "stdout",
     "output_type": "stream",
     "text": [
      "==================================================\n",
      "Python\n",
      "==================================================\n"
     ]
    }
   ],
   "source": [
    "print('='*50)\n",
    "print('Python')\n",
    "print('='*50)"
   ]
  },
  {
   "cell_type": "markdown",
   "id": "a8a5d4b5-0b58-4125-adc5-26e3ac749c85",
   "metadata": {},
   "source": [
    "### 문자열 길이 구하기"
   ]
  },
  {
   "cell_type": "code",
   "execution_count": 16,
   "id": "a7d8983f-b56e-49e3-b0bd-fd7f0c3fdb94",
   "metadata": {},
   "outputs": [
    {
     "data": {
      "text/plain": [
       "17"
      ]
     },
     "execution_count": 16,
     "metadata": {},
     "output_type": "execute_result"
    }
   ],
   "source": [
    "a = \"Life is too short\"\n",
    "len(a)"
   ]
  },
  {
   "cell_type": "markdown",
   "id": "9524b353-1e55-4299-bab2-49634dce745d",
   "metadata": {},
   "source": [
    "### 문자열 인덱싱"
   ]
  },
  {
   "cell_type": "code",
   "execution_count": 18,
   "id": "b6e433ba-66a6-4766-8798-2a9078e3122e",
   "metadata": {},
   "outputs": [],
   "source": [
    "a = \"Life is too short, you need Python\""
   ]
  },
  {
   "cell_type": "code",
   "execution_count": 19,
   "id": "3c31ad88-6a2c-423c-9716-9fea38ab6701",
   "metadata": {},
   "outputs": [
    {
     "data": {
      "text/plain": [
       "'L'"
      ]
     },
     "execution_count": 19,
     "metadata": {},
     "output_type": "execute_result"
    }
   ],
   "source": [
    "a[0]"
   ]
  },
  {
   "cell_type": "code",
   "execution_count": 20,
   "id": "72fd1f8d-a3dd-49c1-81ef-9223081cc50c",
   "metadata": {},
   "outputs": [
    {
     "data": {
      "text/plain": [
       "'i'"
      ]
     },
     "execution_count": 20,
     "metadata": {},
     "output_type": "execute_result"
    }
   ],
   "source": [
    "a[5]"
   ]
  },
  {
   "cell_type": "code",
   "execution_count": 21,
   "id": "9c19a5be-9c5d-480c-9a98-65a3d881b048",
   "metadata": {},
   "outputs": [
    {
     "data": {
      "text/plain": [
       "','"
      ]
     },
     "execution_count": 21,
     "metadata": {},
     "output_type": "execute_result"
    }
   ],
   "source": [
    "a[17]"
   ]
  },
  {
   "cell_type": "code",
   "execution_count": 23,
   "id": "70991771-856e-4328-9634-f127d4358c6d",
   "metadata": {},
   "outputs": [
    {
     "data": {
      "text/plain": [
       "34"
      ]
     },
     "execution_count": 23,
     "metadata": {},
     "output_type": "execute_result"
    }
   ],
   "source": [
    "len(a)"
   ]
  },
  {
   "cell_type": "code",
   "execution_count": 24,
   "id": "50fe10a4-d405-4c4f-a43b-ee6a94938848",
   "metadata": {},
   "outputs": [
    {
     "data": {
      "text/plain": [
       "'n'"
      ]
     },
     "execution_count": 24,
     "metadata": {},
     "output_type": "execute_result"
    }
   ],
   "source": [
    "a[-1] #뒤에서 부터 찾기"
   ]
  },
  {
   "cell_type": "code",
   "execution_count": 25,
   "id": "c6f5ddd5-ed31-4f8c-a913-c99ce15b4501",
   "metadata": {},
   "outputs": [
    {
     "data": {
      "text/plain": [
       "'o'"
      ]
     },
     "execution_count": 25,
     "metadata": {},
     "output_type": "execute_result"
    }
   ],
   "source": [
    "a[-2] #뒤에서 두번째"
   ]
  },
  {
   "cell_type": "code",
   "execution_count": 27,
   "id": "04d0eb13-62ca-4be1-87c9-1e92305e60bb",
   "metadata": {},
   "outputs": [
    {
     "data": {
      "text/plain": [
       "'n'"
      ]
     },
     "execution_count": 27,
     "metadata": {},
     "output_type": "execute_result"
    }
   ],
   "source": [
    "a[33]"
   ]
  },
  {
   "cell_type": "markdown",
   "id": "3b8ca5ad-e592-4c32-822f-ef915e37856e",
   "metadata": {},
   "source": [
    "### 문자열 슬라이싱"
   ]
  },
  {
   "cell_type": "code",
   "execution_count": 29,
   "id": "fd8edaee-b8ff-470b-9ea9-747eacf546e9",
   "metadata": {},
   "outputs": [
    {
     "name": "stdout",
     "output_type": "stream",
     "text": [
      "Life\n"
     ]
    }
   ],
   "source": [
    "b = a[0] + a[1] + a[2] + a[3]\n",
    "print(b)"
   ]
  },
  {
   "cell_type": "code",
   "execution_count": 30,
   "id": "b1a6a9c4-6713-40d4-bc9b-20642af413e6",
   "metadata": {},
   "outputs": [
    {
     "data": {
      "text/plain": [
       "'Life'"
      ]
     },
     "execution_count": 30,
     "metadata": {},
     "output_type": "execute_result"
    }
   ],
   "source": [
    "a[0:4]"
   ]
  },
  {
   "cell_type": "code",
   "execution_count": 31,
   "id": "52ccc3a2-1a99-4efb-8dba-df622a0260a9",
   "metadata": {},
   "outputs": [
    {
     "data": {
      "text/plain": [
       "'short'"
      ]
     },
     "execution_count": 31,
     "metadata": {},
     "output_type": "execute_result"
    }
   ],
   "source": [
    "#문자열에서 short 문자 슬라이싱\n",
    "a[12:17]"
   ]
  },
  {
   "cell_type": "code",
   "execution_count": 32,
   "id": "b2d7baa4-2a06-4c74-b795-831ae2113112",
   "metadata": {},
   "outputs": [
    {
     "data": {
      "text/plain": [
       "'need'"
      ]
     },
     "execution_count": 32,
     "metadata": {},
     "output_type": "execute_result"
    }
   ],
   "source": [
    "# need 찾아오기\n",
    "a[23:27]"
   ]
  },
  {
   "cell_type": "code",
   "execution_count": 33,
   "id": "d3f90e02-31be-46f5-b04e-24c7eb7fc894",
   "metadata": {},
   "outputs": [
    {
     "data": {
      "text/plain": [
       "'Python'"
      ]
     },
     "execution_count": 33,
     "metadata": {},
     "output_type": "execute_result"
    }
   ],
   "source": [
    "a[28:]"
   ]
  },
  {
   "cell_type": "code",
   "execution_count": 34,
   "id": "b64caa09-c98d-4a28-8082-edbabc251c04",
   "metadata": {},
   "outputs": [
    {
     "data": {
      "text/plain": [
       "'Life is too short, you'"
      ]
     },
     "execution_count": 34,
     "metadata": {},
     "output_type": "execute_result"
    }
   ],
   "source": [
    "a[:22]"
   ]
  },
  {
   "cell_type": "code",
   "execution_count": 36,
   "id": "e8d5d35c-9d9b-4d6f-ad62-672ca857ca1b",
   "metadata": {},
   "outputs": [
    {
     "data": {
      "text/plain": [
       "'Life is too short, you need Python'"
      ]
     },
     "execution_count": 36,
     "metadata": {},
     "output_type": "execute_result"
    }
   ],
   "source": [
    "a"
   ]
  },
  {
   "cell_type": "code",
   "execution_count": 37,
   "id": "bedca08d-65b3-44f5-b4cf-056e4dca58fe",
   "metadata": {},
   "outputs": [
    {
     "data": {
      "text/plain": [
       "'Pytho'"
      ]
     },
     "execution_count": 37,
     "metadata": {},
     "output_type": "execute_result"
    }
   ],
   "source": [
    "a[28:-1]"
   ]
  },
  {
   "cell_type": "code",
   "execution_count": 38,
   "id": "edb65a02-1032-43e4-a085-e826b9692c03",
   "metadata": {},
   "outputs": [
    {
     "data": {
      "text/plain": [
       "'Pyth'"
      ]
     },
     "execution_count": 38,
     "metadata": {},
     "output_type": "execute_result"
    }
   ],
   "source": [
    "a[28:-2]"
   ]
  },
  {
   "cell_type": "code",
   "execution_count": 39,
   "id": "3b97a6d4-2e94-4235-8ae8-78675fa89187",
   "metadata": {},
   "outputs": [
    {
     "data": {
      "text/plain": [
       "'P'"
      ]
     },
     "execution_count": 39,
     "metadata": {},
     "output_type": "execute_result"
    }
   ],
   "source": [
    "a[28]"
   ]
  },
  {
   "cell_type": "code",
   "execution_count": 40,
   "id": "6fd5b47d-e625-40cf-9851-91e358effad3",
   "metadata": {},
   "outputs": [
    {
     "data": {
      "text/plain": [
       "'Python'"
      ]
     },
     "execution_count": 40,
     "metadata": {},
     "output_type": "execute_result"
    }
   ],
   "source": [
    "a[28:]"
   ]
  },
  {
   "cell_type": "code",
   "execution_count": 41,
   "id": "7730dd87-cbd7-47ff-9e23-6c1e194a80c0",
   "metadata": {},
   "outputs": [
    {
     "name": "stdout",
     "output_type": "stream",
     "text": [
      "<class 'str'>\n"
     ]
    }
   ],
   "source": [
    "a = \"123\"\n",
    "print(type(a))"
   ]
  },
  {
   "cell_type": "markdown",
   "id": "3741f24c-7d5a-432c-9f7a-ff0f538380a5",
   "metadata": {},
   "source": [
    "### Pithon 문자열을 Python으로 바꾸려면?"
   ]
  },
  {
   "cell_type": "code",
   "execution_count": 1,
   "id": "e8e76146-e3b9-443c-889b-9bdd201120b7",
   "metadata": {},
   "outputs": [
    {
     "data": {
      "text/plain": [
       "'i'"
      ]
     },
     "execution_count": 1,
     "metadata": {},
     "output_type": "execute_result"
    }
   ],
   "source": [
    "a = 'Pithon'\n",
    "a[1]"
   ]
  },
  {
   "cell_type": "code",
   "execution_count": 2,
   "id": "fd7a8d6f-86d7-412e-9c8c-4c15fc453b91",
   "metadata": {},
   "outputs": [
    {
     "ename": "TypeError",
     "evalue": "'str' object does not support item assignment",
     "output_type": "error",
     "traceback": [
      "\u001b[1;31m---------------------------------------------------------------------------\u001b[0m",
      "\u001b[1;31mTypeError\u001b[0m                                 Traceback (most recent call last)",
      "Cell \u001b[1;32mIn[2], line 1\u001b[0m\n\u001b[1;32m----> 1\u001b[0m a[\u001b[38;5;241m1\u001b[39m] \u001b[38;5;241m=\u001b[39m \u001b[38;5;124m'\u001b[39m\u001b[38;5;124my\u001b[39m\u001b[38;5;124m'\u001b[39m\n",
      "\u001b[1;31mTypeError\u001b[0m: 'str' object does not support item assignment"
     ]
    }
   ],
   "source": [
    "a[1] = 'y'"
   ]
  },
  {
   "cell_type": "code",
   "execution_count": 3,
   "id": "a604f495-f813-47e2-96f7-324c39af3e65",
   "metadata": {},
   "outputs": [
    {
     "name": "stdout",
     "output_type": "stream",
     "text": [
      "def\n"
     ]
    }
   ],
   "source": [
    "b = 'abc'\n",
    "b = 'def'\n",
    "print(b)"
   ]
  },
  {
   "cell_type": "code",
   "execution_count": 4,
   "id": "b238c068-2090-40e4-96c8-abea8b65d3e4",
   "metadata": {},
   "outputs": [
    {
     "name": "stdout",
     "output_type": "stream",
     "text": [
      "Python\n"
     ]
    }
   ],
   "source": [
    "b = a[0] + 'y' + a[2:]\n",
    "print(b)"
   ]
  },
  {
   "cell_type": "code",
   "execution_count": 6,
   "id": "a0f53890-a604-4a6e-a432-86f77e61e7b1",
   "metadata": {},
   "outputs": [
    {
     "name": "stdout",
     "output_type": "stream",
     "text": [
      "Pithon\n"
     ]
    }
   ],
   "source": [
    "print(a)"
   ]
  },
  {
   "cell_type": "markdown",
   "id": "75472e38-7882-4d73-a9ea-385f138b2e14",
   "metadata": {},
   "source": [
    "### 문자열 포매팅"
   ]
  },
  {
   "cell_type": "code",
   "execution_count": 7,
   "id": "dfcdfa0d-e742-46a6-b9ef-77731145764c",
   "metadata": {},
   "outputs": [
    {
     "data": {
      "text/plain": [
       "'I eat 2 apples.'"
      ]
     },
     "execution_count": 7,
     "metadata": {},
     "output_type": "execute_result"
    }
   ],
   "source": [
    "\"I eat %d apples.\" %2"
   ]
  },
  {
   "cell_type": "code",
   "execution_count": 8,
   "id": "c077c583-fd61-4262-a6dc-aa66068ffe0f",
   "metadata": {},
   "outputs": [
    {
     "data": {
      "text/plain": [
       "'I eat two apples.'"
      ]
     },
     "execution_count": 8,
     "metadata": {},
     "output_type": "execute_result"
    }
   ],
   "source": [
    "\"I eat %s apples.\" %\"two\""
   ]
  },
  {
   "cell_type": "code",
   "execution_count": 9,
   "id": "e1846fea-bbea-444d-b2d9-8ae2c327ae0b",
   "metadata": {},
   "outputs": [
    {
     "data": {
      "text/plain": [
       "'I eat 3 apples.'"
      ]
     },
     "execution_count": 9,
     "metadata": {},
     "output_type": "execute_result"
    }
   ],
   "source": [
    "number = 3\n",
    "\"I eat %d apples.\" %number"
   ]
  },
  {
   "cell_type": "code",
   "execution_count": 12,
   "id": "cf319d1a-9f53-4fc2-9e24-a795e9a18658",
   "metadata": {},
   "outputs": [
    {
     "data": {
      "text/plain": [
       "'I ate 10 apples. so I was sick for three days.'"
      ]
     },
     "execution_count": 12,
     "metadata": {},
     "output_type": "execute_result"
    }
   ],
   "source": [
    "number = 10\n",
    "day = \"three\"\n",
    "\"I ate %d apples. so I was sick for %s days.\" %(number, day)"
   ]
  },
  {
   "cell_type": "code",
   "execution_count": 16,
   "id": "4a6a2755-8665-43f3-a972-294ea181a791",
   "metadata": {},
   "outputs": [
    {
     "data": {
      "text/plain": [
       "'Error is 98%.'"
      ]
     },
     "execution_count": 16,
     "metadata": {},
     "output_type": "execute_result"
    }
   ],
   "source": [
    "#포맷코드와 문자%를 같이사용\n",
    "\"Error is %d%%.\" %98"
   ]
  },
  {
   "cell_type": "code",
   "execution_count": 19,
   "id": "9959aa9f-b3c3-47df-94df-a903d757abf2",
   "metadata": {},
   "outputs": [],
   "source": [
    "a = \"%10s\" %\"hi\""
   ]
  },
  {
   "cell_type": "code",
   "execution_count": 20,
   "id": "262ceda6-06d2-4ccd-a8b8-0ce9deb9fadc",
   "metadata": {},
   "outputs": [
    {
     "name": "stdout",
     "output_type": "stream",
     "text": [
      "        hi\n"
     ]
    }
   ],
   "source": [
    "print(a)"
   ]
  },
  {
   "cell_type": "code",
   "execution_count": 21,
   "id": "118fe5e8-d3c1-4ef7-b651-5d61b377a11e",
   "metadata": {},
   "outputs": [
    {
     "data": {
      "text/plain": [
       "10"
      ]
     },
     "execution_count": 21,
     "metadata": {},
     "output_type": "execute_result"
    }
   ],
   "source": [
    "len(a)"
   ]
  },
  {
   "cell_type": "code",
   "execution_count": 22,
   "id": "f3a19dfc-e152-475b-b5e9-cf926569ce1d",
   "metadata": {},
   "outputs": [],
   "source": [
    "a = \"%-10s\" %\"hi\""
   ]
  },
  {
   "cell_type": "code",
   "execution_count": 23,
   "id": "ee802e46-cb43-4066-80c4-3fd77efef457",
   "metadata": {},
   "outputs": [
    {
     "name": "stdout",
     "output_type": "stream",
     "text": [
      "hi        \n"
     ]
    }
   ],
   "source": [
    "print(a)"
   ]
  },
  {
   "cell_type": "code",
   "execution_count": 24,
   "id": "7fe524f7-1bc1-458c-9d69-495421d06e13",
   "metadata": {},
   "outputs": [
    {
     "data": {
      "text/plain": [
       "10"
      ]
     },
     "execution_count": 24,
     "metadata": {},
     "output_type": "execute_result"
    }
   ],
   "source": [
    "len(a)"
   ]
  },
  {
   "cell_type": "code",
   "execution_count": 31,
   "id": "7c41721d-c427-436d-9755-a52db0a42f05",
   "metadata": {},
   "outputs": [
    {
     "data": {
      "text/plain": [
       "'    3.4231'"
      ]
     },
     "execution_count": 31,
     "metadata": {},
     "output_type": "execute_result"
    }
   ],
   "source": [
    "f = \"%10.4f\" %3.423134234\n",
    "f"
   ]
  },
  {
   "cell_type": "code",
   "execution_count": 32,
   "id": "dae5ee85-2207-4118-999e-6502b5956327",
   "metadata": {},
   "outputs": [
    {
     "data": {
      "text/plain": [
       "10"
      ]
     },
     "execution_count": 32,
     "metadata": {},
     "output_type": "execute_result"
    }
   ],
   "source": [
    "len(f)"
   ]
  },
  {
   "cell_type": "code",
   "execution_count": 34,
   "id": "a5b8975e-45f5-4654-9554-daed3e3d7b3c",
   "metadata": {},
   "outputs": [
    {
     "data": {
      "text/plain": [
       "'I eat 3 apples.'"
      ]
     },
     "execution_count": 34,
     "metadata": {},
     "output_type": "execute_result"
    }
   ],
   "source": [
    "\"I eat {} apples.\".format(3)"
   ]
  },
  {
   "cell_type": "code",
   "execution_count": 35,
   "id": "439aed59-b6e1-4eb5-8488-2035917f9797",
   "metadata": {},
   "outputs": [
    {
     "data": {
      "text/plain": [
       "'I eat three apples.'"
      ]
     },
     "execution_count": 35,
     "metadata": {},
     "output_type": "execute_result"
    }
   ],
   "source": [
    "\"I eat {} apples.\".format(\"three\")"
   ]
  },
  {
   "cell_type": "code",
   "execution_count": 36,
   "id": "8dba1531-61de-4810-b679-098ac9ae9339",
   "metadata": {},
   "outputs": [
    {
     "data": {
      "text/plain": [
       "'I eat 3 apples.'"
      ]
     },
     "execution_count": 36,
     "metadata": {},
     "output_type": "execute_result"
    }
   ],
   "source": [
    "number = 3\n",
    "\"I eat {} apples.\".format(number)"
   ]
  },
  {
   "cell_type": "code",
   "execution_count": 37,
   "id": "ae7c17cd-d73d-4eb7-ad15-484fd4a4a3b5",
   "metadata": {},
   "outputs": [
    {
     "data": {
      "text/plain": [
       "'I ate 10 apples. so I was sick for three days.'"
      ]
     },
     "execution_count": 37,
     "metadata": {},
     "output_type": "execute_result"
    }
   ],
   "source": [
    "number=10\n",
    "day=\"three\"\n",
    "\"I ate {} apples. so I was sick for {} days.\".format(number,day)"
   ]
  },
  {
   "cell_type": "code",
   "execution_count": 38,
   "id": "7e480fa6-3184-4ad8-a8cf-670cd427b015",
   "metadata": {},
   "outputs": [
    {
     "data": {
      "text/plain": [
       "'I ate 10 apples. so I was sick for 3 days.'"
      ]
     },
     "execution_count": 38,
     "metadata": {},
     "output_type": "execute_result"
    }
   ],
   "source": [
    "\"I ate {number} apples. so I was sick for {day} days.\".format(number=10,day=3)"
   ]
  },
  {
   "cell_type": "code",
   "execution_count": 39,
   "id": "221fc1aa-9473-464f-94d0-85598b72e381",
   "metadata": {},
   "outputs": [
    {
     "data": {
      "text/plain": [
       "'I ate 10 apples. so I was sick for 3 days.'"
      ]
     },
     "execution_count": 39,
     "metadata": {},
     "output_type": "execute_result"
    }
   ],
   "source": [
    "\"I ate {0} apples. so I was sick for {day} days.\".format(10,day=3)"
   ]
  },
  {
   "cell_type": "code",
   "execution_count": 40,
   "id": "801fe4e3-d974-41d7-bdbd-c4600d5ebaee",
   "metadata": {},
   "outputs": [
    {
     "data": {
      "text/plain": [
       "'hi        '"
      ]
     },
     "execution_count": 40,
     "metadata": {},
     "output_type": "execute_result"
    }
   ],
   "source": [
    "\"{:10}\".format('hi')"
   ]
  },
  {
   "cell_type": "code",
   "execution_count": 41,
   "id": "8cc9ed98-e070-41c5-afd6-127e69493046",
   "metadata": {},
   "outputs": [
    {
     "data": {
      "text/plain": [
       "'        hi'"
      ]
     },
     "execution_count": 41,
     "metadata": {},
     "output_type": "execute_result"
    }
   ],
   "source": [
    "\"{:>10}\".format('hi')"
   ]
  },
  {
   "cell_type": "code",
   "execution_count": 42,
   "id": "61821f53-a282-4c40-90b0-3b419dd66fee",
   "metadata": {},
   "outputs": [
    {
     "data": {
      "text/plain": [
       "'    hi    '"
      ]
     },
     "execution_count": 42,
     "metadata": {},
     "output_type": "execute_result"
    }
   ],
   "source": [
    "\"{:^10}\".format('hi')"
   ]
  },
  {
   "cell_type": "code",
   "execution_count": 44,
   "id": "cb11a042-7361-45e0-9d6c-9816eb08eb19",
   "metadata": {},
   "outputs": [
    {
     "data": {
      "text/plain": [
       "'========hi'"
      ]
     },
     "execution_count": 44,
     "metadata": {},
     "output_type": "execute_result"
    }
   ],
   "source": [
    "\"{:=>10}\".format('hi')"
   ]
  },
  {
   "cell_type": "code",
   "execution_count": 45,
   "id": "9e76a98e-dce4-4676-94e5-135ea6ea68e0",
   "metadata": {},
   "outputs": [
    {
     "data": {
      "text/plain": [
       "'====hi===='"
      ]
     },
     "execution_count": 45,
     "metadata": {},
     "output_type": "execute_result"
    }
   ],
   "source": [
    "\"{:=^10}\".format('hi')"
   ]
  },
  {
   "cell_type": "code",
   "execution_count": 46,
   "id": "b9aadddd-45f7-4431-a6db-40e566b1bd33",
   "metadata": {},
   "outputs": [
    {
     "data": {
      "text/plain": [
       "'!!!!hi!!!!'"
      ]
     },
     "execution_count": 46,
     "metadata": {},
     "output_type": "execute_result"
    }
   ],
   "source": [
    "\"{:!^10}\".format('hi')"
   ]
  },
  {
   "cell_type": "code",
   "execution_count": 47,
   "id": "c3ba367e-23d1-4f76-b73b-dcaa58d0d73d",
   "metadata": {},
   "outputs": [
    {
     "data": {
      "text/plain": [
       "'3.4213'"
      ]
     },
     "execution_count": 47,
     "metadata": {},
     "output_type": "execute_result"
    }
   ],
   "source": [
    "\"{:0.4f}\".format(3.42134234)"
   ]
  },
  {
   "cell_type": "code",
   "execution_count": 48,
   "id": "b3dffe26-5b35-4530-bafc-30e99ebaf591",
   "metadata": {},
   "outputs": [
    {
     "data": {
      "text/plain": [
       "'    3.4213'"
      ]
     },
     "execution_count": 48,
     "metadata": {},
     "output_type": "execute_result"
    }
   ],
   "source": [
    "\"{:10.4f}\".format(3.42134234)"
   ]
  },
  {
   "cell_type": "code",
   "execution_count": 50,
   "id": "8e1f4238-24e3-4754-8f15-516d6876c1cc",
   "metadata": {},
   "outputs": [
    {
     "data": {
      "text/plain": [
       "'{and}'"
      ]
     },
     "execution_count": 50,
     "metadata": {},
     "output_type": "execute_result"
    }
   ],
   "source": [
    "\"{{and}}\".format()"
   ]
  },
  {
   "cell_type": "code",
   "execution_count": 53,
   "id": "f9363b94-e4ef-4a3a-ae84-e2398ebdb920",
   "metadata": {},
   "outputs": [
    {
     "data": {
      "text/plain": [
       "'나의 이름은 티그로입니다. 나이는 28입니다.'"
      ]
     },
     "execution_count": 53,
     "metadata": {},
     "output_type": "execute_result"
    }
   ],
   "source": [
    "name='티그로'\n",
    "age=28\n",
    "f\"나의 이름은 {name}입니다. 나이는 {age}입니다.\""
   ]
  },
  {
   "cell_type": "code",
   "execution_count": 54,
   "id": "5e94a2d4-f96b-464f-88a1-3bc3f4310a37",
   "metadata": {},
   "outputs": [
    {
     "data": {
      "text/plain": [
       "'나는 내년이면 30살이 됩니다.'"
      ]
     },
     "execution_count": 54,
     "metadata": {},
     "output_type": "execute_result"
    }
   ],
   "source": [
    "age=29\n",
    "f\"나는 내년이면 {age+1}살이 됩니다.\""
   ]
  },
  {
   "cell_type": "code",
   "execution_count": 61,
   "id": "38d1a5eb-3300-499d-b528-2af4a92035d1",
   "metadata": {},
   "outputs": [
    {
     "data": {
      "text/plain": [
       "'나의 이름은 홍길동입니다. 나이는 30입니다.'"
      ]
     },
     "execution_count": 61,
     "metadata": {},
     "output_type": "execute_result"
    }
   ],
   "source": [
    "d = {'name':'홍길동', 'age':30}\n",
    "\n",
    "f'나의 이름은 {d[\"name\"]}입니다. 나이는 {d[\"age\"]}입니다.'"
   ]
  },
  {
   "cell_type": "code",
   "execution_count": 63,
   "id": "c159c986-c883-4b1f-a565-bf2dc87ae004",
   "metadata": {},
   "outputs": [
    {
     "data": {
      "text/plain": [
       "'hi        '"
      ]
     },
     "execution_count": 63,
     "metadata": {},
     "output_type": "execute_result"
    }
   ],
   "source": [
    "f'{\"hi\":<10}'"
   ]
  },
  {
   "cell_type": "code",
   "execution_count": 64,
   "id": "c26eb7ba-cb7c-46a6-a284-602662b33b66",
   "metadata": {},
   "outputs": [
    {
     "data": {
      "text/plain": [
       "'        hi'"
      ]
     },
     "execution_count": 64,
     "metadata": {},
     "output_type": "execute_result"
    }
   ],
   "source": [
    "f'{\"hi\":>10}'"
   ]
  },
  {
   "cell_type": "code",
   "execution_count": 65,
   "id": "18e0abb7-1b80-49dc-a6c5-f9c20026f2d4",
   "metadata": {},
   "outputs": [
    {
     "data": {
      "text/plain": [
       "'    hi    '"
      ]
     },
     "execution_count": 65,
     "metadata": {},
     "output_type": "execute_result"
    }
   ],
   "source": [
    "f'{\"hi\":^10}'"
   ]
  },
  {
   "cell_type": "code",
   "execution_count": 66,
   "id": "75256562-55a2-4052-bf2d-c77ad2414872",
   "metadata": {},
   "outputs": [
    {
     "data": {
      "text/plain": [
       "'========hi'"
      ]
     },
     "execution_count": 66,
     "metadata": {},
     "output_type": "execute_result"
    }
   ],
   "source": [
    "f'{\"hi\":=>10}'"
   ]
  },
  {
   "cell_type": "code",
   "execution_count": 67,
   "id": "ae6c6905-da22-4b8c-9d79-6e96e112d8dc",
   "metadata": {},
   "outputs": [
    {
     "data": {
      "text/plain": [
       "'hi========'"
      ]
     },
     "execution_count": 67,
     "metadata": {},
     "output_type": "execute_result"
    }
   ],
   "source": [
    "f'{\"hi\":=<10}'"
   ]
  },
  {
   "cell_type": "code",
   "execution_count": 68,
   "id": "0fec9e07-0d3c-4e7f-aa2a-ee0a9a1c1986",
   "metadata": {},
   "outputs": [
    {
     "data": {
      "text/plain": [
       "'3.4213'"
      ]
     },
     "execution_count": 68,
     "metadata": {},
     "output_type": "execute_result"
    }
   ],
   "source": [
    "f\"{3.421342:0.4f}\""
   ]
  },
  {
   "cell_type": "code",
   "execution_count": 69,
   "id": "191256fd-5755-4c37-81b9-ec706843dd50",
   "metadata": {},
   "outputs": [
    {
     "data": {
      "text/plain": [
       "'{and}'"
      ]
     },
     "execution_count": 69,
     "metadata": {},
     "output_type": "execute_result"
    }
   ],
   "source": [
    "f\"{{and}}\""
   ]
  },
  {
   "cell_type": "markdown",
   "id": "3249189e-a91a-4d48-9708-cc3ff06b9940",
   "metadata": {},
   "source": [
    "### 문자열 관련 함수들"
   ]
  },
  {
   "cell_type": "code",
   "execution_count": 76,
   "id": "8464ef7a-a789-4ba3-93d7-7effb4ba58ef",
   "metadata": {},
   "outputs": [
    {
     "data": {
      "text/plain": [
       "2"
      ]
     },
     "execution_count": 76,
     "metadata": {},
     "output_type": "execute_result"
    }
   ],
   "source": [
    "# count(): 문자 갯수 세기\n",
    "c = \"hobby\"\n",
    "c.count('b')"
   ]
  },
  {
   "cell_type": "code",
   "execution_count": 79,
   "id": "1b9ab76f-6b44-49d7-bf63-8aae58bf9cfd",
   "metadata": {},
   "outputs": [
    {
     "data": {
      "text/plain": [
       "14"
      ]
     },
     "execution_count": 79,
     "metadata": {},
     "output_type": "execute_result"
    }
   ],
   "source": [
    "# find(): 문자 위치 찾기\n",
    "a=\"Python is the best choice\"\n",
    "a.find('b')"
   ]
  },
  {
   "cell_type": "code",
   "execution_count": 73,
   "id": "498fc45d-f093-42e5-8fc4-06fcccdfd565",
   "metadata": {},
   "outputs": [
    {
     "data": {
      "text/plain": [
       "-1"
      ]
     },
     "execution_count": 73,
     "metadata": {},
     "output_type": "execute_result"
    }
   ],
   "source": [
    "a.find('k')"
   ]
  },
  {
   "cell_type": "code",
   "execution_count": 80,
   "id": "42ce686f-6a14-49b5-ad71-13537873ccae",
   "metadata": {},
   "outputs": [
    {
     "data": {
      "text/plain": [
       "8"
      ]
     },
     "execution_count": 80,
     "metadata": {},
     "output_type": "execute_result"
    }
   ],
   "source": [
    "# find(): 문자 위치 찾기2\n",
    "a=\"Life is too short\"\n",
    "a.index('t')"
   ]
  },
  {
   "cell_type": "code",
   "execution_count": 78,
   "id": "7cd1416c-b2f3-4ece-aa64-97e358998493",
   "metadata": {},
   "outputs": [
    {
     "ename": "ValueError",
     "evalue": "substring not found",
     "output_type": "error",
     "traceback": [
      "\u001b[1;31m---------------------------------------------------------------------------\u001b[0m",
      "\u001b[1;31mValueError\u001b[0m                                Traceback (most recent call last)",
      "Cell \u001b[1;32mIn[78], line 1\u001b[0m\n\u001b[1;32m----> 1\u001b[0m a\u001b[38;5;241m.\u001b[39mindex(\u001b[38;5;124m'\u001b[39m\u001b[38;5;124mk\u001b[39m\u001b[38;5;124m'\u001b[39m)\n",
      "\u001b[1;31mValueError\u001b[0m: substring not found"
     ]
    }
   ],
   "source": [
    "a.index('k')"
   ]
  },
  {
   "cell_type": "code",
   "execution_count": 81,
   "id": "9f3e5989-d12e-406d-9131-ecfb426532e4",
   "metadata": {},
   "outputs": [
    {
     "data": {
      "text/plain": [
       "'a,b,c,d'"
      ]
     },
     "execution_count": 81,
     "metadata": {},
     "output_type": "execute_result"
    }
   ],
   "source": [
    "#join(): 리스트를 문자열로 합치기\n",
    "\",\".join('abcd')"
   ]
  },
  {
   "cell_type": "code",
   "execution_count": 84,
   "id": "050b8f6d-5d9f-4ac7-8fb3-59b7dcc4bf48",
   "metadata": {},
   "outputs": [
    {
     "data": {
      "text/plain": [
       "'a,b,c,d'"
      ]
     },
     "execution_count": 84,
     "metadata": {},
     "output_type": "execute_result"
    }
   ],
   "source": [
    "\",\".join(['a','b','c','d'])"
   ]
  },
  {
   "cell_type": "code",
   "execution_count": 85,
   "id": "126bec90-4e3c-46da-849f-8b5564993124",
   "metadata": {},
   "outputs": [
    {
     "data": {
      "text/plain": [
       "'HI'"
      ]
     },
     "execution_count": 85,
     "metadata": {},
     "output_type": "execute_result"
    }
   ],
   "source": [
    "#upper(): 소문자를 대문자로 바꿔줌\n",
    "a='hi'\n",
    "a.upper()"
   ]
  },
  {
   "cell_type": "code",
   "execution_count": 87,
   "id": "5df1fc81-26eb-4593-be6e-e440c7b44e9b",
   "metadata": {},
   "outputs": [
    {
     "data": {
      "text/plain": [
       "'hi'"
      ]
     },
     "execution_count": 87,
     "metadata": {},
     "output_type": "execute_result"
    }
   ],
   "source": [
    "#lower(): 대문자를 소문자로 바꿔줌\n",
    "a='HI'\n",
    "a.lower()"
   ]
  },
  {
   "cell_type": "code",
   "execution_count": 89,
   "id": "208fa03f-3a63-499b-8ce7-a5eca802dcd7",
   "metadata": {},
   "outputs": [
    {
     "data": {
      "text/plain": [
       "'     hi'"
      ]
     },
     "execution_count": 89,
     "metadata": {},
     "output_type": "execute_result"
    }
   ],
   "source": [
    "#lstrip(): 왼쪽 공백 지우기\n",
    "a=\"     hi\"\n",
    "a"
   ]
  },
  {
   "cell_type": "code",
   "execution_count": 90,
   "id": "454cb308-4164-4a60-b9c9-e7dbe9feb6e6",
   "metadata": {},
   "outputs": [
    {
     "data": {
      "text/plain": [
       "'hi'"
      ]
     },
     "execution_count": 90,
     "metadata": {},
     "output_type": "execute_result"
    }
   ],
   "source": [
    "#lstrip(): 왼쪽 공백 지우기\n",
    "a=\"     hi\"\n",
    "a.lstrip()"
   ]
  },
  {
   "cell_type": "code",
   "execution_count": 91,
   "id": "bff188a9-0319-486b-aea4-44b484bdd3f0",
   "metadata": {},
   "outputs": [
    {
     "data": {
      "text/plain": [
       "'hi      '"
      ]
     },
     "execution_count": 91,
     "metadata": {},
     "output_type": "execute_result"
    }
   ],
   "source": [
    "#rstrip(): 오른쪽 공백 지우기\n",
    "a=\"hi      \"\n",
    "a"
   ]
  },
  {
   "cell_type": "code",
   "execution_count": 92,
   "id": "e1731981-7975-4818-b535-7889163cc247",
   "metadata": {},
   "outputs": [
    {
     "data": {
      "text/plain": [
       "'hi'"
      ]
     },
     "execution_count": 92,
     "metadata": {},
     "output_type": "execute_result"
    }
   ],
   "source": [
    "#rstrip(): 오른쪽 공백 지우기\n",
    "a=\"hi      \"\n",
    "a.rstrip()"
   ]
  },
  {
   "cell_type": "code",
   "execution_count": 93,
   "id": "d26341de-3adc-4f3f-8da2-d50903e118bd",
   "metadata": {},
   "outputs": [
    {
     "data": {
      "text/plain": [
       "'   hi      '"
      ]
     },
     "execution_count": 93,
     "metadata": {},
     "output_type": "execute_result"
    }
   ],
   "source": [
    "#strip(): 양쪽 공백 지우기\n",
    "a=\"   hi      \"\n",
    "a"
   ]
  },
  {
   "cell_type": "code",
   "execution_count": 94,
   "id": "7a01ccae-eae6-46a2-87b4-c225ed7ccf2a",
   "metadata": {},
   "outputs": [
    {
     "data": {
      "text/plain": [
       "'hi'"
      ]
     },
     "execution_count": 94,
     "metadata": {},
     "output_type": "execute_result"
    }
   ],
   "source": [
    "#strip(): 양쪽 공백 지우기\n",
    "a=\"   hi      \"\n",
    "a.strip()"
   ]
  },
  {
   "cell_type": "code",
   "execution_count": 95,
   "id": "deb17d68-f761-4f36-bd80-9bf88668d63c",
   "metadata": {},
   "outputs": [
    {
     "data": {
      "text/plain": [
       "'Your leg is too short'"
      ]
     },
     "execution_count": 95,
     "metadata": {},
     "output_type": "execute_result"
    }
   ],
   "source": [
    "#replace(): 문자열을 다른 지정한 다른 문자열로 바꿔줌\n",
    "a=\"Life is too short\"\n",
    "a.replace(\"Life\", \"Your leg\")"
   ]
  },
  {
   "cell_type": "code",
   "execution_count": 96,
   "id": "f4c15946-ce03-47e5-8f91-cb734d2b80bd",
   "metadata": {},
   "outputs": [
    {
     "data": {
      "text/plain": [
       "['Life', 'is', 'too', 'short']"
      ]
     },
     "execution_count": 96,
     "metadata": {},
     "output_type": "execute_result"
    }
   ],
   "source": [
    "#split(): 문자열 나누기\n",
    "a=\"Life is too short\"\n",
    "a.split()"
   ]
  },
  {
   "cell_type": "code",
   "execution_count": 98,
   "id": "d9d20a42-e57d-485d-b842-64668105945a",
   "metadata": {},
   "outputs": [
    {
     "data": {
      "text/plain": [
       "['a', 'b', 'c', 'd']"
      ]
     },
     "execution_count": 98,
     "metadata": {},
     "output_type": "execute_result"
    }
   ],
   "source": [
    "#split(): 문자열 나누기\n",
    "b=\"a:b:c:d\"\n",
    "b.split(\":\")"
   ]
  },
  {
   "cell_type": "code",
   "execution_count": 99,
   "id": "602f346c-bd92-47ef-983f-fd20ae5a5240",
   "metadata": {},
   "outputs": [
    {
     "data": {
      "text/plain": [
       "['a', 'b', 'c', 'd']"
      ]
     },
     "execution_count": 99,
     "metadata": {},
     "output_type": "execute_result"
    }
   ],
   "source": [
    "c=\"a,b,c,d\"\n",
    "c.split(\",\")"
   ]
  },
  {
   "cell_type": "code",
   "execution_count": 100,
   "id": "4f83e781-8885-4796-b106-1af5cfed547c",
   "metadata": {},
   "outputs": [
    {
     "data": {
      "text/plain": [
       "['a,b,c,d']"
      ]
     },
     "execution_count": 100,
     "metadata": {},
     "output_type": "execute_result"
    }
   ],
   "source": [
    "c=\"a,b,c,d\"\n",
    "c.split()"
   ]
  },
  {
   "cell_type": "code",
   "execution_count": null,
   "id": "0df273aa-2c34-4eaa-a0f3-b15287117ef8",
   "metadata": {},
   "outputs": [],
   "source": []
  }
 ],
 "metadata": {
  "kernelspec": {
   "display_name": "Python [conda env:base] *",
   "language": "python",
   "name": "conda-base-py"
  },
  "language_info": {
   "codemirror_mode": {
    "name": "ipython",
    "version": 3
   },
   "file_extension": ".py",
   "mimetype": "text/x-python",
   "name": "python",
   "nbconvert_exporter": "python",
   "pygments_lexer": "ipython3",
   "version": "3.13.5"
  }
 },
 "nbformat": 4,
 "nbformat_minor": 5
}
