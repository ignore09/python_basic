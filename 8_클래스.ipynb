{
 "cells": [
  {
   "cell_type": "markdown",
   "id": "05f6a6fb-1b88-4bc2-a93f-c6277f41fcff",
   "metadata": {},
   "source": [
    "## 1. 클래스는 왜 필요한가?"
   ]
  },
  {
   "cell_type": "code",
   "execution_count": 1,
   "id": "e89557ee-6b56-49b8-b575-4903ad34675e",
   "metadata": {},
   "outputs": [
    {
     "name": "stdout",
     "output_type": "stream",
     "text": [
      "3\n",
      "7\n"
     ]
    }
   ],
   "source": [
    "# 함수로 계산기 만들기\n",
    "result= 0\n",
    "\n",
    "def add(num):\n",
    "    global result\n",
    "    result += num\n",
    "    return result\n",
    "\n",
    "print(add(3))  # 0+3= 3\n",
    "print(add(4))  # 3+4= 7"
   ]
  },
  {
   "cell_type": "code",
   "execution_count": 6,
   "id": "bdfacb22-4b35-4565-9b76-c4d50a2deff9",
   "metadata": {},
   "outputs": [
    {
     "name": "stdout",
     "output_type": "stream",
     "text": [
      "3\n",
      "7\n",
      "5\n",
      "11\n"
     ]
    }
   ],
   "source": [
    "# 계산기 2개로 각각 계산\n",
    "res1= 0\n",
    "res2= 0\n",
    "\n",
    "def add1(num):\n",
    "    global res1\n",
    "    res1 += num\n",
    "    return res1\n",
    "\n",
    "def add2(num):\n",
    "    global res2\n",
    "    res2 += num\n",
    "    return res2\n",
    "\n",
    "print(add1(3))\n",
    "print(add1(4))\n",
    "print(add2(5))\n",
    "print(add2(6))"
   ]
  },
  {
   "cell_type": "code",
   "execution_count": 8,
   "id": "26285455-70e6-450f-9bad-e6c976930062",
   "metadata": {},
   "outputs": [
    {
     "name": "stdout",
     "output_type": "stream",
     "text": [
      "3\n",
      "7\n",
      "5\n",
      "11\n"
     ]
    }
   ],
   "source": [
    "# 클래스로 여러개 계산기 만들기\n",
    "class Calculater:\n",
    "    def __init__ (self):\n",
    "        self.result= 0   # 계산기 초기값\n",
    "\n",
    "    def add(self, num):\n",
    "        self.result += num\n",
    "        return self.result\n",
    "\n",
    "cal1= Calculater()   # 객체 - 계산기1\n",
    "cal2= Calculater()   # 객체 - 계산기2\n",
    "\n",
    "print(cal1.add(3))\n",
    "print(cal1.add(4))\n",
    "print(cal2.add(5))\n",
    "print(cal2.add(6))"
   ]
  },
  {
   "cell_type": "code",
   "execution_count": 9,
   "id": "a29879bb-072d-4cf5-8bf4-21f826f05c10",
   "metadata": {},
   "outputs": [
    {
     "name": "stdout",
     "output_type": "stream",
     "text": [
      "10\n",
      "13\n",
      "8\n",
      "-5\n",
      "15\n"
     ]
    }
   ],
   "source": [
    "# 더하기 / 빼기 기능이 있는 계산기의 설계도(class)\n",
    "class Calculater:\n",
    "    def __init__ (self):\n",
    "        self.result= 0   # 계산기 초기값\n",
    "\n",
    "    def add(self, num):\n",
    "        self.result += num\n",
    "        return self.result\n",
    "\n",
    "    def sub(self, num):\n",
    "        self.result -= num\n",
    "        return self.result\n",
    "\n",
    "cal1= Calculater()\n",
    "print(cal1.add(10))  # 0+10= 10\n",
    "print(cal1.add(3))   # 10+3= 13\n",
    "print(cal1.sub(5))   # 13-5= 8\n",
    "\n",
    "cal2= Calculater()\n",
    "print(cal2.sub(5))   # 0-5= -5\n",
    "print(cal2.add(20))   # -5+20= 15"
   ]
  },
  {
   "cell_type": "markdown",
   "id": "3094ec85-1465-4feb-b4dd-baf0f90c6ff2",
   "metadata": {},
   "source": [
    "## 2. 사칙 연산 클래스 만들기"
   ]
  },
  {
   "cell_type": "code",
   "execution_count": 10,
   "id": "0e373e3e-a844-45ad-90f7-611991c09f47",
   "metadata": {},
   "outputs": [],
   "source": [
    "class FourCal:\n",
    "    pass"
   ]
  },
  {
   "cell_type": "code",
   "execution_count": 12,
   "id": "a2a89d38-6b11-428b-abd8-f7ae5d85f5e5",
   "metadata": {},
   "outputs": [
    {
     "data": {
      "text/plain": [
       "__main__.FourCal"
      ]
     },
     "execution_count": 12,
     "metadata": {},
     "output_type": "execute_result"
    }
   ],
   "source": [
    "a= FourCal()\n",
    "type(a)"
   ]
  },
  {
   "cell_type": "code",
   "execution_count": 13,
   "id": "31d4fd1e-fa09-4d73-9b55-5107ba0e0ea4",
   "metadata": {},
   "outputs": [],
   "source": [
    "class FourCal:\n",
    "    def setdata(self, first, second):\n",
    "        self.first= first\n",
    "        self.second= second"
   ]
  },
  {
   "cell_type": "code",
   "execution_count": 14,
   "id": "20eccd9a-34f1-43aa-b5e6-45de72ab23fd",
   "metadata": {},
   "outputs": [
    {
     "name": "stdout",
     "output_type": "stream",
     "text": [
      "3 4\n"
     ]
    }
   ],
   "source": [
    "a= FourCal()   # 객체 생성\n",
    "a.setdata(3,4)\n",
    "print(a.first, a.second)"
   ]
  },
  {
   "cell_type": "code",
   "execution_count": 15,
   "id": "6e5a25fc-8d7c-43ad-93bc-105a4a7b05ae",
   "metadata": {},
   "outputs": [
    {
     "name": "stdout",
     "output_type": "stream",
     "text": [
      "6\n",
      "2\n",
      "8\n",
      "2.0\n",
      "********************\n",
      "11\n",
      "-5\n",
      "24\n",
      "0.375\n"
     ]
    }
   ],
   "source": [
    "class FourCal:\n",
    "    def setdata(self, first, second):\n",
    "        self.first= first\n",
    "        self.second= second\n",
    "\n",
    "    def add(self):\n",
    "        result= self.first + self.second\n",
    "        return result\n",
    "    \n",
    "    def sub(self):\n",
    "        result= self.first - self.second\n",
    "        return result\n",
    "   \n",
    "    def mul(self):\n",
    "        result= self.first * self.second\n",
    "        return result\n",
    "\n",
    "    def div(self):\n",
    "        result= self.first / self.second\n",
    "        return result\n",
    "\n",
    "cal1= FourCal()   # 계산기1\n",
    "cal2= FourCal()   # 계산기2\n",
    "\n",
    "# 계산기에 2개의 숫자 입력\n",
    "cal1.setdata(4,2)\n",
    "cal2.setdata(3,8)\n",
    "\n",
    "print(cal1.add())\n",
    "print(cal1.sub())\n",
    "print(cal1.mul())\n",
    "print(cal1.div())\n",
    "print('*'*20)\n",
    "print(cal2.add())\n",
    "print(cal2.sub())\n",
    "print(cal2.mul())\n",
    "print(cal2.div())"
   ]
  },
  {
   "cell_type": "markdown",
   "id": "8e91e627-54f0-45e2-9e50-aa8ea83c5ef9",
   "metadata": {},
   "source": [
    "## 3. 생성자 "
   ]
  },
  {
   "cell_type": "code",
   "execution_count": 16,
   "id": "a58aca8c-9fef-49e9-9ade-f56e14cb5d5b",
   "metadata": {},
   "outputs": [],
   "source": [
    "class FourCal:\n",
    "    def __init__(self, first, second):\n",
    "        self.first= first\n",
    "        self.second= second\n",
    "\n",
    "    def add(self):\n",
    "        result= self.first + self.second\n",
    "        return result\n",
    "    \n",
    "    def sub(self):\n",
    "        result= self.first - self.second\n",
    "        return result\n",
    "   \n",
    "    def mul(self):\n",
    "        result= self.first * self.second\n",
    "        return result\n",
    "\n",
    "    def div(self):\n",
    "        result= self.first / self.second\n",
    "        return result"
   ]
  },
  {
   "cell_type": "code",
   "execution_count": 17,
   "id": "f63c7777-cebd-4833-93f9-60c21eb92ecf",
   "metadata": {},
   "outputs": [],
   "source": [
    "calc1= FourCal(15,3)"
   ]
  },
  {
   "cell_type": "code",
   "execution_count": 18,
   "id": "6c80fd13-a41a-46d3-943a-0598afbcf426",
   "metadata": {},
   "outputs": [
    {
     "data": {
      "text/plain": [
       "15"
      ]
     },
     "execution_count": 18,
     "metadata": {},
     "output_type": "execute_result"
    }
   ],
   "source": [
    "calc1.first"
   ]
  },
  {
   "cell_type": "code",
   "execution_count": 19,
   "id": "4267885e-f98e-4845-87b9-78be63c002d2",
   "metadata": {},
   "outputs": [
    {
     "data": {
      "text/plain": [
       "3"
      ]
     },
     "execution_count": 19,
     "metadata": {},
     "output_type": "execute_result"
    }
   ],
   "source": [
    "calc1.second"
   ]
  },
  {
   "cell_type": "code",
   "execution_count": 24,
   "id": "729d6909-ed62-4861-ab14-303acf69a7e6",
   "metadata": {},
   "outputs": [
    {
     "name": "stdout",
     "output_type": "stream",
     "text": [
      "15 + 3 = 18\n",
      "15 - 3 = 12\n",
      "15 * 3 = 45\n",
      "15 / 3 = 5.0\n"
     ]
    }
   ],
   "source": [
    "print('15 + 3 =', calc1.add())\n",
    "print('15 - 3 =', calc1.sub())\n",
    "print('15 * 3 =', calc1.mul())\n",
    "print('15 / 3 =', calc1.div())"
   ]
  },
  {
   "cell_type": "code",
   "execution_count": 26,
   "id": "243465a4-1969-4653-b71e-eb5abcaa023e",
   "metadata": {},
   "outputs": [],
   "source": [
    "# 메서드: 클래스 안에서 선언한 함수"
   ]
  },
  {
   "cell_type": "markdown",
   "id": "406a1e8f-ee15-4ffd-85ca-45251be67354",
   "metadata": {},
   "source": [
    "## 4. 클래스 상속"
   ]
  },
  {
   "cell_type": "code",
   "execution_count": 27,
   "id": "783d871b-0fba-4584-8102-6cb56f95316a",
   "metadata": {},
   "outputs": [],
   "source": [
    "class MoreFourCal(FourCal):\n",
    "    pass"
   ]
  },
  {
   "cell_type": "code",
   "execution_count": 32,
   "id": "fddcfe14-4f3c-4456-8494-6d1ffa526036",
   "metadata": {},
   "outputs": [
    {
     "name": "stdout",
     "output_type": "stream",
     "text": [
      "6\n",
      "2\n",
      "8\n",
      "2.0\n"
     ]
    }
   ],
   "source": [
    "cal1= MoreFourCal(4,2)\n",
    "\n",
    "print(cal1.add())\n",
    "print(cal1.sub())\n",
    "print(cal1.mul())\n",
    "print(cal1.div())"
   ]
  },
  {
   "cell_type": "code",
   "execution_count": 34,
   "id": "ff8b7c38-f712-4c8c-a5cf-cea58df6ae3e",
   "metadata": {},
   "outputs": [
    {
     "name": "stdout",
     "output_type": "stream",
     "text": [
      "6\n",
      "2\n",
      "8\n",
      "2.0\n",
      "16\n"
     ]
    }
   ],
   "source": [
    "# 기본기능은 상속받았고, MoreFourCal만의 기능을 추가하기\n",
    "class MoreFourCal(FourCal):\n",
    "    def pow(self):\n",
    "        result= self.first ** self.second\n",
    "        return result\n",
    "\n",
    "cal2= MoreFourCal(4,2)\n",
    "\n",
    "print(cal2.add())\n",
    "print(cal2.sub())\n",
    "print(cal2.mul())\n",
    "print(cal2.div())\n",
    "print(cal2.pow())"
   ]
  },
  {
   "cell_type": "code",
   "execution_count": 36,
   "id": "96f06e65-1311-4c7b-bd86-3a9e583cad67",
   "metadata": {},
   "outputs": [
    {
     "name": "stdout",
     "output_type": "stream",
     "text": [
      "4\n",
      "4\n",
      "0\n"
     ]
    }
   ],
   "source": [
    "cal3= MoreFourCal(4,0)\n",
    "\n",
    "print(cal3.add())\n",
    "print(cal3.sub())\n",
    "print(cal3.mul())"
   ]
  },
  {
   "cell_type": "code",
   "execution_count": 38,
   "id": "6c76f804-88d9-419a-9809-576c208b0de5",
   "metadata": {},
   "outputs": [
    {
     "ename": "ZeroDivisionError",
     "evalue": "division by zero",
     "output_type": "error",
     "traceback": [
      "\u001b[1;31m---------------------------------------------------------------------------\u001b[0m",
      "\u001b[1;31mZeroDivisionError\u001b[0m                         Traceback (most recent call last)",
      "Cell \u001b[1;32mIn[38], line 1\u001b[0m\n\u001b[1;32m----> 1\u001b[0m \u001b[38;5;28mprint\u001b[39m(cal3\u001b[38;5;241m.\u001b[39mdiv())\n",
      "Cell \u001b[1;32mIn[16], line 19\u001b[0m, in \u001b[0;36mFourCal.div\u001b[1;34m(self)\u001b[0m\n\u001b[0;32m     18\u001b[0m \u001b[38;5;28;01mdef\u001b[39;00m\u001b[38;5;250m \u001b[39m\u001b[38;5;21mdiv\u001b[39m(\u001b[38;5;28mself\u001b[39m):\n\u001b[1;32m---> 19\u001b[0m     result\u001b[38;5;241m=\u001b[39m \u001b[38;5;28mself\u001b[39m\u001b[38;5;241m.\u001b[39mfirst \u001b[38;5;241m/\u001b[39m \u001b[38;5;28mself\u001b[39m\u001b[38;5;241m.\u001b[39msecond\n\u001b[0;32m     20\u001b[0m     \u001b[38;5;28;01mreturn\u001b[39;00m result\n",
      "\u001b[1;31mZeroDivisionError\u001b[0m: division by zero"
     ]
    }
   ],
   "source": [
    "print(cal3.div())"
   ]
  },
  {
   "cell_type": "markdown",
   "id": "804e9857-7610-4e21-a123-d7db47eb6099",
   "metadata": {},
   "source": [
    "## 5. 메서드 오버라이딩"
   ]
  },
  {
   "cell_type": "code",
   "execution_count": 41,
   "id": "c626fa9f-5438-4089-95fa-e91d951cb272",
   "metadata": {},
   "outputs": [],
   "source": [
    "# 메서드 오버라이딩: 상속받은 기능 수정하여 덮어쓰기\n",
    "class SafeFourCal(FourCal):\n",
    "    def div(self):\n",
    "        if self.second == 0:\n",
    "            return 0\n",
    "        else:\n",
    "            result= self.first / self.second\n",
    "            return result    "
   ]
  },
  {
   "cell_type": "code",
   "execution_count": 43,
   "id": "6d194ba5-8d76-4b97-9b84-c3ffed38b84a",
   "metadata": {},
   "outputs": [
    {
     "name": "stdout",
     "output_type": "stream",
     "text": [
      "4\n",
      "4\n",
      "0\n",
      "0\n"
     ]
    }
   ],
   "source": [
    "calc= SafeFourCal(4,0)\n",
    "\n",
    "print(calc.add())\n",
    "print(calc.sub())\n",
    "print(calc.mul())\n",
    "print(calc.div())"
   ]
  },
  {
   "cell_type": "markdown",
   "id": "6c41cb4e-7c0a-463e-a53b-43439fd36152",
   "metadata": {},
   "source": [
    "##  6. 클래스 변수"
   ]
  },
  {
   "cell_type": "code",
   "execution_count": 44,
   "id": "a6b91763-0ac5-42fb-9a74-8dd05cf639fd",
   "metadata": {},
   "outputs": [],
   "source": [
    "class Family:\n",
    "    lastname= '김'"
   ]
  },
  {
   "cell_type": "code",
   "execution_count": 45,
   "id": "d565b2c5-ecd8-4a2f-b98c-399e58246805",
   "metadata": {},
   "outputs": [
    {
     "data": {
      "text/plain": [
       "'김'"
      ]
     },
     "execution_count": 45,
     "metadata": {},
     "output_type": "execute_result"
    }
   ],
   "source": [
    "Family.lastname"
   ]
  },
  {
   "cell_type": "code",
   "execution_count": 46,
   "id": "095cb12a-43aa-4983-b1d6-a851ddd217c2",
   "metadata": {},
   "outputs": [
    {
     "name": "stdout",
     "output_type": "stream",
     "text": [
      "김\n",
      "김\n"
     ]
    }
   ],
   "source": [
    "a= Family()\n",
    "b= Family()\n",
    "print(a.lastname)\n",
    "print(b.lastname)"
   ]
  },
  {
   "cell_type": "code",
   "execution_count": 47,
   "id": "346c84c6-e370-4810-a293-45e3e280f2e3",
   "metadata": {},
   "outputs": [
    {
     "name": "stdout",
     "output_type": "stream",
     "text": [
      "박\n",
      "박\n"
     ]
    }
   ],
   "source": [
    "# 클래스 변수 변경\n",
    "Family.lastname= '박'\n",
    "# Family.lastname => 클래스 변수, 클래스 변수를 변경하면 인스턴스 변수도 변경\n",
    "print(a.lastname)\n",
    "print(b.lastname)"
   ]
  },
  {
   "cell_type": "code",
   "execution_count": 48,
   "id": "eb5d5a72-437f-4a6b-a600-2904c47069ea",
   "metadata": {},
   "outputs": [
    {
     "name": "stdout",
     "output_type": "stream",
     "text": [
      "최\n",
      "박\n"
     ]
    }
   ],
   "source": [
    "# 인스턴스 변수만 변경\n",
    "a.lastname= '최'\n",
    "\n",
    "print(a.lastname)   # 인스턴스 변수를 변경하면 해당 인스턴스 변수만 변경됨\n",
    "print(b.lastname)"
   ]
  },
  {
   "cell_type": "code",
   "execution_count": null,
   "id": "10f440af-9d98-4290-97cb-06e07e7efcf9",
   "metadata": {},
   "outputs": [],
   "source": []
  }
 ],
 "metadata": {
  "kernelspec": {
   "display_name": "Python [conda env:base] *",
   "language": "python",
   "name": "conda-base-py"
  },
  "language_info": {
   "codemirror_mode": {
    "name": "ipython",
    "version": 3
   },
   "file_extension": ".py",
   "mimetype": "text/x-python",
   "name": "python",
   "nbconvert_exporter": "python",
   "pygments_lexer": "ipython3",
   "version": "3.13.5"
  }
 },
 "nbformat": 4,
 "nbformat_minor": 5
}
